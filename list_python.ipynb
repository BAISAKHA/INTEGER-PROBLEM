{
  "nbformat": 4,
  "nbformat_minor": 0,
  "metadata": {
    "colab": {
      "name": "list python",
      "provenance": [],
      "authorship_tag": "ABX9TyNr9bsJX8VAjS9ITFDYXahG",
      "include_colab_link": true
    },
    "kernelspec": {
      "name": "python3",
      "display_name": "Python 3"
    },
    "language_info": {
      "name": "python"
    }
  },
  "cells": [
    {
      "cell_type": "markdown",
      "metadata": {
        "id": "view-in-github",
        "colab_type": "text"
      },
      "source": [
        "<a href=\"https://colab.research.google.com/github/BAISAKHA/INTEGER-PROBLEM/blob/main/list_python.ipynb\" target=\"_parent\"><img src=\"https://colab.research.google.com/assets/colab-badge.svg\" alt=\"Open In Colab\"/></a>"
      ]
    },
    {
      "cell_type": "code",
      "execution_count": null,
      "metadata": {
        "id": "_ZzhMfElUEVq"
      },
      "outputs": [],
      "source": [
        "#inserting elments into list\n"
      ]
    },
    {
      "cell_type": "code",
      "source": [
        "l=[1,2,43,4]\n",
        "a=\"apple\"\n",
        "b=\"banana\"\n",
        "l.append(a)\n",
        "l.insert(1,\"sanbrish\")\n",
        "print(type(l))\n",
        "print(l[-1])\n",
        "print(l)"
      ],
      "metadata": {
        "colab": {
          "base_uri": "https://localhost:8080/"
        },
        "id": "ybhnDxINUOhk",
        "outputId": "58ec03b0-82e8-477c-87f3-09670eff9427"
      },
      "execution_count": null,
      "outputs": [
        {
          "output_type": "stream",
          "name": "stdout",
          "text": [
            "<class 'list'>\n",
            "apple\n",
            "[1, 'sanbrish', 2, 43, 4, 'apple']\n"
          ]
        }
      ]
    },
    {
      "cell_type": "code",
      "source": [
        "l=[]\n",
        "for i in range(0,5):\n",
        "  l.append(i)\n",
        "l.remove(1)\n",
        "l.remove(2)\n",
        "print(l)\n",
        "l.remove(3)\n",
        "print(l)"
      ],
      "metadata": {
        "colab": {
          "base_uri": "https://localhost:8080/"
        },
        "id": "LKycEaSIae7h",
        "outputId": "f5e7d0b0-8710-47f3-cabf-e9095c4a7ec3"
      },
      "execution_count": null,
      "outputs": [
        {
          "output_type": "stream",
          "name": "stdout",
          "text": [
            "[0, 3, 4]\n",
            "[0, 4]\n"
          ]
        }
      ]
    },
    {
      "cell_type": "code",
      "source": [
        "l=[4,3,2,6,7,5]\n",
        "l.sort()\n",
        "print(l)"
      ],
      "metadata": {
        "colab": {
          "base_uri": "https://localhost:8080/"
        },
        "id": "kc0_MYFmghDT",
        "outputId": "f9e9bc70-5a96-4753-e928-e3a7ad97ad7f"
      },
      "execution_count": null,
      "outputs": [
        {
          "output_type": "stream",
          "name": "stdout",
          "text": [
            "[2, 3, 4, 5, 6, 7]\n"
          ]
        }
      ]
    },
    {
      "cell_type": "code",
      "source": [
        ""
      ],
      "metadata": {
        "id": "ucthOUEjU240"
      },
      "execution_count": null,
      "outputs": []
    }
  ]
}